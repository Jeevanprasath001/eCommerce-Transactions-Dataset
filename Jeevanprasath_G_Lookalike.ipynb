{
 "cells": [
  {
   "cell_type": "markdown",
   "metadata": {},
   "source": [
    "# Step 1: Data Preparation\n",
    "Load the datasets and preprocess them."
   ]
  },
  {
   "cell_type": "code",
   "execution_count": 1,
   "metadata": {},
   "outputs": [],
   "source": [
    "import pandas as pd\n",
    "\n",
    "# Load datasets\n",
    "customers_df = pd.read_csv('Customers.csv')\n",
    "products_df = pd.read_csv('Products.csv')\n",
    "transactions_df = pd.read_csv('Transactions.csv')\n",
    "\n",
    "# Convert dates to datetime\n",
    "customers_df['SignupDate'] = pd.to_datetime(customers_df['SignupDate'])\n",
    "transactions_df['TransactionDate'] = pd.to_datetime(transactions_df['TransactionDate'])\n",
    "\n",
    "# Merge datasets\n",
    "merged_df = transactions_df.merge(customers_df, on='CustomerID').merge(products_df, on='ProductID')"
   ]
  },
  {
   "cell_type": "markdown",
   "metadata": {},
   "source": [
    "# Step 2: Feature Engineering\n",
    "Create features based on customer profiles and transaction history."
   ]
  },
  {
   "cell_type": "code",
   "execution_count": 5,
   "metadata": {},
   "outputs": [
    {
     "name": "stdout",
     "output_type": "stream",
     "text": [
      "  CustomerID  TotalValue  Quantity       Price        CustomerName  \\\n",
      "0      C0001     3354.52        12  278.334000    Lawrence Carroll   \n",
      "1      C0002     1862.74        10  208.920000      Elizabeth Lutz   \n",
      "2      C0003     2725.38        14  195.707500      Michael Rivera   \n",
      "3      C0004     5354.88        23  240.636250  Kathleen Rodriguez   \n",
      "4      C0005     2034.24         7  291.603333         Laura Weber   \n",
      "\n",
      "          Region SignupDate  \n",
      "0  South America 2022-07-10  \n",
      "1           Asia 2022-02-13  \n",
      "2  South America 2024-03-07  \n",
      "3  South America 2022-10-09  \n",
      "4           Asia 2022-08-15  \n"
     ]
    }
   ],
   "source": [
    "# Calculate the average price per product\n",
    "avg_price_per_product = products_df[['ProductID', 'Price']]\n",
    "\n",
    "# Merge the average price with the transactions data\n",
    "merged_df = merged_df.merge(avg_price_per_product, on='ProductID', how='left')\n",
    "\n",
    "# Example feature: Total transaction value per customer\n",
    "customer_features = merged_df.groupby('CustomerID').agg({\n",
    "    'TotalValue': 'sum',\n",
    "    'Quantity': 'sum',\n",
    "    'Price': 'mean'\n",
    "}).reset_index()\n",
    "\n",
    "# Merge with customer profiles\n",
    "customer_features = customer_features.merge(customers_df, on='CustomerID')\n",
    "\n",
    "# Display the first few rows of the customer features\n",
    "print(customer_features.head())"
   ]
  },
  {
   "cell_type": "markdown",
   "metadata": {},
   "source": [
    "# Step 3: Similarity Calculation\n",
    "Use cosine similarity to calculate similarity scores."
   ]
  },
  {
   "cell_type": "code",
   "execution_count": 6,
   "metadata": {},
   "outputs": [],
   "source": [
    "from sklearn.metrics.pairwise import cosine_similarity\n",
    "from sklearn.preprocessing import StandardScaler\n",
    "\n",
    "# Select relevant features\n",
    "features = ['TotalValue', 'Quantity', 'Price']\n",
    "X = customer_features[features]\n",
    "\n",
    "# Standardize features\n",
    "scaler = StandardScaler()\n",
    "X_scaled = scaler.fit_transform(X)\n",
    "\n",
    "# Calculate cosine similarity\n",
    "similarity_matrix = cosine_similarity(X_scaled)"
   ]
  },
  {
   "cell_type": "markdown",
   "metadata": {},
   "source": [
    "# Step 4: Recommendation\n",
    "Recommend the top 3 similar customers for each target customer."
   ]
  },
  {
   "cell_type": "code",
   "execution_count": 9,
   "metadata": {},
   "outputs": [
    {
     "name": "stdout",
     "output_type": "stream",
     "text": [
      "Lookalike.csv generated successfully.\n"
     ]
    }
   ],
   "source": [
    "# Create a DataFrame to store recommendations\n",
    "lookalike_df = pd.DataFrame(columns=['CustomerID', 'Lookalike1', 'Score1', 'Lookalike2', 'Score2', 'Lookalike3', 'Score3'])\n",
    "\n",
    "# Get top 3 similar customers for each target customer\n",
    "recommendations = []\n",
    "\n",
    "for idx, customer_id in enumerate(customer_features['CustomerID']):\n",
    "    similarity_scores = similarity_matrix[idx]\n",
    "    similar_customers = customer_features['CustomerID'][similarity_scores.argsort()[::-1][1:4]]\n",
    "    scores = similarity_scores[similarity_scores.argsort()[::-1][1:4]]\n",
    "    \n",
    "    recommendations.append({\n",
    "        'CustomerID': customer_id,\n",
    "        'Lookalike1': similar_customers.iloc[0],\n",
    "        'Score1': scores[0],\n",
    "        'Lookalike2': similar_customers.iloc[1],\n",
    "        'Score2': scores[1],\n",
    "        'Lookalike3': similar_customers.iloc[2],\n",
    "        'Score3': scores[2]\n",
    "    })\n",
    "\n",
    "lookalike_df = pd.DataFrame(recommendations)\n",
    "\n",
    "# Filter for the first 20 customers\n",
    "lookalike_df = lookalike_df[lookalike_df['CustomerID'].isin(customers_df['CustomerID'][:20])]\n",
    "\n",
    "# Save to CSV\n",
    "lookalike_df.to_csv('Lookalike.csv', index=False)\n",
    "\n",
    "print(\"Lookalike.csv generated successfully.\")"
   ]
  }
 ],
 "metadata": {
  "kernelspec": {
   "display_name": "Python 3",
   "language": "python",
   "name": "python3"
  },
  "language_info": {
   "codemirror_mode": {
    "name": "ipython",
    "version": 3
   },
   "file_extension": ".py",
   "mimetype": "text/x-python",
   "name": "python",
   "nbconvert_exporter": "python",
   "pygments_lexer": "ipython3",
   "version": "3.11.8"
  }
 },
 "nbformat": 4,
 "nbformat_minor": 2
}
